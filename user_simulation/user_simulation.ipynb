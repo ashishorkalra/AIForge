{
 "cells": [
  {
   "cell_type": "code",
   "execution_count": 1,
   "id": "088f1720-67c0-4395-9a25-311ab2590b05",
   "metadata": {},
   "outputs": [],
   "source": [
    "import dspy\n",
    "from pydantic import BaseModel, Field\n",
    "from typing import List\n",
    "\n",
    "seed_num = 42\n",
    "\n",
    "lm = dspy.LM('openai/gpt-4o', api_key='')\n",
    "dspy.configure(lm=lm)"
   ]
  },
  {
   "cell_type": "code",
   "execution_count": 2,
   "id": "1e1be50c-5229-4aa6-9f31-c1bda4625d3f",
   "metadata": {},
   "outputs": [],
   "source": [
    "# Define Pydantic models for structured outputs\n",
    "class TaskComponent(BaseModel):\n",
    "    line_to_append: str = Field(description=\"Context/instruction for the task\")\n",
    "    sample_sentences: List[str] = Field(description=\"2-3 sample phrases/sentences\")\n",
    "    \n",
    "class GeneratePropertyBuyerAgent(dspy.Signature):\n",
    "    \"\"\"Generate a complete user profile for a property listing simulation. The profile will simulate a real buyer/renter interacting with a real estate agent.\n",
    "\n",
    "    Objection : Resistance from the user toward property listings (e.g., price concerns, location issues, property condition).\n",
    "    \n",
    "    Create persona, traits, behaviors, and detailed conversation tasks. \n",
    "    Use fictional phone number 0000-000-000 if not provided.\n",
    "    \n",
    "    Steps:\n",
    "    1. Persona: Name, phone, role (first-time buyer, investor, renter, etc.) \n",
    "    2. Key Traits: 3-5 characteristics relevant to objection\n",
    "    3. Key Behaviors: 3-5 conversation behaviors\n",
    "    4. Tasks Components (with line_to_append + sample_sentences):\n",
    "        - Initial conversation starter\n",
    "        - Objection reaction\n",
    "        - Information disclosure\n",
    "        - Value proposition questioning\n",
    "        - Resolution conditions\n",
    "        - Non-resolution response\n",
    "        - Property viewing scheduling\n",
    "    5. Final Identity: Combined persona + all traits\n",
    "    6. Final Behavior/Task: Structured behaviors + all tasks components with sample sentences\n",
    "    \n",
    "    Format Final Identity: \"You are [Name], phone: [0000-000-000], [Role]. Key traits:\\n- Trait1\\n- Trait2\"\n",
    "    Format Final Behavior/Task: \"## Key Behaviors\\n- Behavior1\\n## Task\\n1. [Task1 description]\\n   - Sample1\\n2. [Task2 description]\\n   - Sample2\"\n",
    "    \"\"\"\n",
    "    \n",
    "    objection_description: str = dspy.InputField(desc=\"Type of objection (e.g., price, location, condition)\")\n",
    "\n",
    "    persona: str = dspy.OutputField(desc=\"Full persona description\")\n",
    "    key_traits: List[str] = dspy.OutputField(desc=\"3-5 key traits\")\n",
    "    key_behaviors: List[str] = dspy.OutputField(desc=\"3-5 key behaviors\")\n",
    "    initial_line: TaskComponent = dspy.OutputField(desc=\"Initial conversation starter\")\n",
    "    objection: TaskComponent = dspy.OutputField(desc=\"Reaction to objection\")\n",
    "    disclose_info: TaskComponent = dspy.OutputField(desc=\"Information disclosure strategy\")\n",
    "    questioning_value: TaskComponent = dspy.OutputField(desc=\"Value proposition challenges\")\n",
    "    conditions_resolution: TaskComponent = dspy.OutputField(desc=\"Acceptance when resolved\")\n",
    "    conditions_without_resolution: TaskComponent = dspy.OutputField(desc=\"Response when unresolved\")\n",
    "    scheduling_viewing: TaskComponent = dspy.OutputField(desc=\"Property viewing approach\")\n",
    "    final_identity: str = dspy.OutputField(desc=\"Combined persona + traits\")\n",
    "    final_behaviour_task: str = dspy.OutputField(desc=\"Structured behaviors + all tasks\")\n",
    "    \n",
    "class PropertyBuyerAgentGenerator(dspy.Module):\n",
    "    def __init__(self):\n",
    "        super().__init__()\n",
    "        self.generate = dspy.Predict(GeneratePropertyBuyerAgent)\n",
    "    \n",
    "    def forward(self, objection_description: str):\n",
    "        return self.generate(objection_description=objection_description)"
   ]
  },
  {
   "cell_type": "code",
   "execution_count": 3,
   "id": "55e267b0-36d8-4293-a896-74e88b2b38ce",
   "metadata": {},
   "outputs": [
    {
     "data": {
      "text/plain": [
       "Prediction(\n",
       "    persona='Sarah is a first-time home buyer with a phone number 123-456-7890. She is looking for a 3-bedroom house in the downtown area with a maximum budget of $500,000. Sarah is particularly concerned about property taxes and maintenance costs.',\n",
       "    key_traits=['Budget-conscious', 'Detail-oriented', 'Cautious', 'Analytical', 'Future-focused'],\n",
       "    key_behaviors=['Frequently asks about price breakdowns', 'Inquires about long-term costs', 'Seeks detailed property reports', 'Questions the value of features', 'Requests comparisons with similar properties'],\n",
       "    initial_line=TaskComponent(line_to_append=\"Start the conversation by understanding Sarah's needs and preferences.\", sample_sentences=[\"Hi Sarah, I understand you're looking for a 3-bedroom house in the downtown area. Can you tell me more about your preferences?\", \"Hello Sarah, let's discuss what you're looking for in a home. What are your must-haves?\", \"Hi Sarah, I'm here to help you find the perfect home. What are the key features you're looking for?\"]),\n",
       "    objection=TaskComponent(line_to_append=\"Address Sarah's price concerns by acknowledging her budget and offering alternatives.\", sample_sentences=[\"I understand that staying within your budget is important. Let's explore some options that fit your criteria.\", 'I see that this listing is above your budget. Would you like to see similar properties that are within your range?', \"I know price is a concern. Let's look at some homes that offer great value within your budget.\"]),\n",
       "    disclose_info=TaskComponent(line_to_append='Provide detailed information about property taxes and maintenance costs.', sample_sentences=['This property has an annual tax of $4,000 and estimated maintenance costs of $2,000. Does that align with your expectations?', 'The taxes for this home are approximately $3,500 per year. Would you like more details on maintenance costs?', 'I can provide a breakdown of the taxes and maintenance expenses for this property. Would that be helpful?']),\n",
       "    questioning_value=TaskComponent(line_to_append='Challenge the value proposition by comparing features and costs.', sample_sentences=['Considering the features and location, do you think this home offers good value for the price?', 'How do you feel about the cost versus the benefits of this property?', \"Let's compare this home with others in the area. Do you see the value in its unique features?\"]),\n",
       "    conditions_resolution=TaskComponent(line_to_append=\"Confirm Sarah's interest if her conditions are met.\", sample_sentences=['If we find a property that meets your budget and has manageable taxes, would you be ready to proceed?', 'Should we find a home that fits your financial criteria, would you be interested in making an offer?', 'If the price and costs align with your expectations, would you consider moving forward?']),\n",
       "    conditions_without_resolution=TaskComponent(line_to_append='Discuss next steps if conditions cannot be met.', sample_sentences=[\"If we can't find a property within your budget, would you consider adjusting your criteria?\", 'Should we not find a match, would you be open to exploring other neighborhoods?', \"If the current options don't fit, would you like to revisit your budget or requirements?\"]),\n",
       "    scheduling_viewing=TaskComponent(line_to_append=\"Arrange a property viewing that fits Sarah's schedule.\", sample_sentences=['Would you like to schedule a viewing for this weekend?', 'When would be a convenient time for you to see the property?', \"Let's set up a time for you to visit the home. What works best for you?\"]),\n",
       "    final_identity='You are Sarah, phone: 123-456-7890, a first-time home buyer. Key traits:\\n- Budget-conscious\\n- Detail-oriented',\n",
       "    final_behaviour_task='## Key Behaviors\\n- Frequently asks about price breakdowns\\n- Inquires about long-term costs\\n## Task\\n1. Start the conversation by understanding Sarah\\'s needs and preferences.\\n   - \"Hi Sarah, I understand you\\'re looking for a 3-bedroom house in the downtown area. Can you tell me more about your preferences?\"\\n2. Address Sarah\\'s price concerns by acknowledging her budget and offering alternatives.\\n   - \"I understand that staying within your budget is important. Let\\'s explore some options that fit your criteria.\"\\n3. Provide detailed information about property taxes and maintenance costs.\\n   - \"This property has an annual tax of $4,000 and estimated maintenance costs of $2,000'\n",
       ")"
      ]
     },
     "execution_count": 3,
     "metadata": {},
     "output_type": "execute_result"
    }
   ],
   "source": [
    "objection_desc = \"\"\"\n",
    "User name Sarah with phone number 123-456-7890. \n",
    "Sarah is a first-time home buyer looking for a 3-bedroom house in the downtown area.\n",
    "Her maximum budget is $500,000. \n",
    "Any listing above $500,000 will trigger her price objection.\n",
    "She's concerned about property taxes and maintenance costs.\n",
    "\"\"\"\n",
    "\n",
    "# Example usage\n",
    "generator = PropertyBuyerAgentGenerator()\n",
    "result = generator(objection_description=objection_desc)\n",
    "\n",
    "result"
   ]
  },
  {
   "cell_type": "code",
   "execution_count": 6,
   "id": "e0c4185d-9f81-47f5-8175-6feef67c3bba",
   "metadata": {},
   "outputs": [],
   "source": [
    "def get_identity_string(prediction):\n",
    "    identity = \"## Identity\\n\"\n",
    "    identity += prediction['persona'] + \"\\n\"\n",
    "    identity += \"Key Traits:\\n\"\n",
    "    for trait in prediction['key_traits']:\n",
    "        identity += f\"- {trait}\\n\"\n",
    "    return identity.strip()"
   ]
  },
  {
   "cell_type": "code",
   "execution_count": 7,
   "id": "0585ec53-3866-482e-af81-f2f292f064ef",
   "metadata": {},
   "outputs": [
    {
     "name": "stdout",
     "output_type": "stream",
     "text": [
      "## Identity\n",
      "Sarah is a first-time home buyer with a phone number 123-456-7890. She is looking for a 3-bedroom house in the downtown area with a maximum budget of $500,000. Sarah is particularly concerned about property taxes and maintenance costs.\n",
      "Key Traits:\n",
      "- Budget-conscious\n",
      "- Detail-oriented\n",
      "- Cautious\n",
      "- Analytical\n",
      "- Future-focused\n"
     ]
    }
   ],
   "source": [
    "print(get_identity_string(result))"
   ]
  },
  {
   "cell_type": "code",
   "execution_count": 4,
   "id": "44378aa8-b311-4845-86f7-a295d8e16326",
   "metadata": {},
   "outputs": [],
   "source": [
    "def get_task_string(prediction):\n",
    "    task_str = \"## Key Behaviours\\n\"\n",
    "    for behavior in prediction['key_behaviors']:\n",
    "        task_str += f\"- {behavior}\\n\"\n",
    "\n",
    "    task_str += \"\\n## Tasks\\n\"\n",
    "\n",
    "    task_components = [\n",
    "        ('initial_line', \"1.\"),\n",
    "        ('objection', \"2.\"),\n",
    "        ('disclose_info', \"3.\"),\n",
    "        ('questioning_value', \"4.\"),\n",
    "        ('conditions_resolution', \"5.\"),\n",
    "        ('conditions_without_resolution', \"6.\"),\n",
    "        ('scheduling_tour', \"7.\")\n",
    "    ]\n",
    "\n",
    "    for i, (key, num) in enumerate(task_components, start=1):\n",
    "        task = prediction.get(key)\n",
    "        if task:\n",
    "            task_str += f\"{i}. {task.line_to_append}\\n\"\n",
    "            for sentence in task.sample_sentences:\n",
    "                task_str += f\"   - {sentence}\\n\"\n",
    "    return task_str.strip()"
   ]
  },
  {
   "cell_type": "code",
   "execution_count": 5,
   "id": "0c6a2414-9a93-49a1-a6f3-f4b792f381e2",
   "metadata": {},
   "outputs": [
    {
     "name": "stdout",
     "output_type": "stream",
     "text": [
      "## Key Behaviours\n",
      "- Frequently asks about price breakdowns\n",
      "- Inquires about long-term costs\n",
      "- Seeks detailed property reports\n",
      "- Questions the value of features\n",
      "- Requests comparisons with similar properties\n",
      "\n",
      "## Tasks\n",
      "1. Start the conversation by understanding Sarah's needs and preferences.\n",
      "   - Hi Sarah, I understand you're looking for a 3-bedroom house in the downtown area. Can you tell me more about your preferences?\n",
      "   - Hello Sarah, let's discuss what you're looking for in a home. What are your must-haves?\n",
      "   - Hi Sarah, I'm here to help you find the perfect home. What are the key features you're looking for?\n",
      "2. Address Sarah's price concerns by acknowledging her budget and offering alternatives.\n",
      "   - I understand that staying within your budget is important. Let's explore some options that fit your criteria.\n",
      "   - I see that this listing is above your budget. Would you like to see similar properties that are within your range?\n",
      "   - I know price is a concern. Let's look at some homes that offer great value within your budget.\n",
      "3. Provide detailed information about property taxes and maintenance costs.\n",
      "   - This property has an annual tax of $4,000 and estimated maintenance costs of $2,000. Does that align with your expectations?\n",
      "   - The taxes for this home are approximately $3,500 per year. Would you like more details on maintenance costs?\n",
      "   - I can provide a breakdown of the taxes and maintenance expenses for this property. Would that be helpful?\n",
      "4. Challenge the value proposition by comparing features and costs.\n",
      "   - Considering the features and location, do you think this home offers good value for the price?\n",
      "   - How do you feel about the cost versus the benefits of this property?\n",
      "   - Let's compare this home with others in the area. Do you see the value in its unique features?\n",
      "5. Confirm Sarah's interest if her conditions are met.\n",
      "   - If we find a property that meets your budget and has manageable taxes, would you be ready to proceed?\n",
      "   - Should we find a home that fits your financial criteria, would you be interested in making an offer?\n",
      "   - If the price and costs align with your expectations, would you consider moving forward?\n",
      "6. Discuss next steps if conditions cannot be met.\n",
      "   - If we can't find a property within your budget, would you consider adjusting your criteria?\n",
      "   - Should we not find a match, would you be open to exploring other neighborhoods?\n",
      "   - If the current options don't fit, would you like to revisit your budget or requirements?\n"
     ]
    }
   ],
   "source": [
    "print(get_task_string(result))"
   ]
  },
  {
   "cell_type": "code",
   "execution_count": null,
   "id": "bb1611d2-0d2a-4449-a0b0-6e2757ed22e5",
   "metadata": {},
   "outputs": [],
   "source": []
  }
 ],
 "metadata": {
  "kernelspec": {
   "display_name": "Poetry (burgundy-py3.11)",
   "language": "python",
   "name": "burgundy-py3.11"
  },
  "language_info": {
   "codemirror_mode": {
    "name": "ipython",
    "version": 3
   },
   "file_extension": ".py",
   "mimetype": "text/x-python",
   "name": "python",
   "nbconvert_exporter": "python",
   "pygments_lexer": "ipython3",
   "version": "3.11.10"
  }
 },
 "nbformat": 4,
 "nbformat_minor": 5
}
