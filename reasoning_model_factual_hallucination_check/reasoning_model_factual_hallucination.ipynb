{
 "cells": [
  {
   "cell_type": "markdown",
   "id": "cc28dc0c-8cbe-4a28-a159-598b09e8ade4",
   "metadata": {},
   "source": [
    "# Imports and Config"
   ]
  },
  {
   "cell_type": "code",
   "execution_count": 1,
   "id": "26ee2efe-f033-4200-a9d0-fd2e52d0f379",
   "metadata": {},
   "outputs": [],
   "source": [
    "import os\n",
    "import json\n",
    "from deepeval.metrics import FaithfulnessMetric, HallucinationMetric\n",
    "from deepeval import evaluate\n",
    "from deepeval.test_case import LLMTestCase"
   ]
  },
  {
   "cell_type": "code",
   "execution_count": 2,
   "id": "15d81ad6-3a4d-4a4d-9a17-d7ca09adac26",
   "metadata": {},
   "outputs": [],
   "source": [
    "os.environ[\"OPENAI_API_KEY\"] = \"\""
   ]
  },
  {
   "cell_type": "code",
   "execution_count": 3,
   "id": "802432a7-841b-42bb-a5f1-0dbcffa468d1",
   "metadata": {},
   "outputs": [],
   "source": [
    "model_to_use = \"o4-mini\""
   ]
  },
  {
   "cell_type": "markdown",
   "id": "416ee621-a3c3-49f5-b955-1a723d741285",
   "metadata": {},
   "source": [
    "# Base Data"
   ]
  },
  {
   "cell_type": "code",
   "execution_count": 4,
   "id": "1987b566-3ffd-45e0-af82-01085205c3c8",
   "metadata": {},
   "outputs": [],
   "source": [
    "property_listing = {\n",
    "    \"security_deposit\": 2000,\n",
    "    \"monthly_rent\": 2500,\n",
    "    \"pet_policy\": [\n",
    "        \"Small dogs allowed (under 25 lbs.)\"\n",
    "    ],\n",
    "    \"smoking_policy\": \"Non-smoking property\",\n",
    "    \"amenities\": [\n",
    "        \"Swimming pool\",\n",
    "        \"Fitness center\",\n",
    "        \"In-unit laundry\",\n",
    "        \"Central air conditioning\",\n",
    "        \"Balcony/Patio\",\n",
    "        \"Smart home features\",\n",
    "        \"Assigned parking\"\n",
    "    ],\n",
    "    \"lease_term\": \"12 months\",\n",
    "    \"property_type\": \"Apartment\",\n",
    "    \"bedrooms\": 2,\n",
    "    \"bathrooms\": 2,\n",
    "    \"square_feet\": 1200,\n",
    "    \"furnished\": False,\n",
    "    \"utilities_included\": [\n",
    "        \"Water\",\n",
    "        \"Trash removal\"\n",
    "    ],\n",
    "    \"laundry\": \"In-unit washer/dryer\",\n",
    "    \"parking\": \"One assigned space\",\n",
    "    \"neighborhood\": \"Downtown\",\n",
    "    \"year_built\": 2020,\n",
    "    \"accessibility\": [\n",
    "        \"Elevator\",\n",
    "        \"Wheelchair ramp\"\n",
    "    ],\n",
    "    \"appliances\": [\n",
    "        \"Stainless steel refrigerator\",\n",
    "        \"Gas range\",\n",
    "        \"Dishwasher\",\n",
    "        \"Microwave\"\n",
    "    ],\n",
    "    \"flooring\": \"Hardwood\",\n",
    "    \"availability_date\": \"2024-03-01\",\n",
    "    \"application_fee\": 75,\n",
    "    \"property_services\": [\n",
    "        \"24/7 maintenance\",\n",
    "        \"Package reception\",\n",
    "        \"On-site management\"\n",
    "    ],\n",
    "    \"outdoor_spaces\": [\n",
    "        \"Community garden\",\n",
    "        \"Rooftop terrace\"\n",
    "    ],\n",
    "    \"security_features\": [\n",
    "        \"Keyless entry\",\n",
    "        \"Security cameras\",\n",
    "        \"Intercom system\"\n",
    "    ],\n",
    "    \"transportation\": [\n",
    "        \"0.5 miles to subway station\",\n",
    "        \"Bike share station on-site\"\n",
    "    ],\n",
    "    \"name\": \"CityView Luxury Apartments\",\n",
    "    \"phone\": \"555-123-4567\",\n",
    "    \"management_company\": \"Urban Living Properties\",\n",
    "    \"website\": \"https://cityviewluxury.com\",\n",
    "    \"address\": \"123 Main St, Metropolis, NY 10001\"\n",
    "}"
   ]
  },
  {
   "cell_type": "code",
   "execution_count": 5,
   "id": "987e9dcf-0534-4e89-a74f-091be0c67c27",
   "metadata": {},
   "outputs": [],
   "source": [
    "property_listing_str = json.dumps(property_listing)"
   ]
  },
  {
   "cell_type": "code",
   "execution_count": 6,
   "id": "dfd02aaa-1774-4be8-9795-778840e8b2e2",
   "metadata": {},
   "outputs": [],
   "source": [
    "factual_test_case = LLMTestCase(\n",
    "    input=\"P. S. My roommate will give you very positive references for the indoor-only felines.\",\n",
    "    actual_output=\"A member of our team will be reaching out shortly to confirm this date and time. If you need immediate assistance or would like to confirm the requested tour, you can contact us directly at 000-000-0000.\",\n",
    "    retrieval_context=[property_listing_str]\n",
    ")"
   ]
  },
  {
   "cell_type": "code",
   "execution_count": 7,
   "id": "a1a2309b-b59d-47da-ba7b-7652ff90a750",
   "metadata": {},
   "outputs": [],
   "source": [
    "hallu_test_case = LLMTestCase(\n",
    "    input=\"I've been staying with a best friend in CityView. Looking for a place of my own for me and the 2 indoor cats. I am retired and want to have my own furnishings, TV choices, etc.\",\n",
    "    actual_output=\"Hi there! Thanks for getting in touch with CityView Luxury Apartments. We're happy to let you know that we allow cats. We provide a variety of services and amenities and are eager to assist you in any way we can. When would be a good time for you to visit our property for a tour and chat about any questions you may have?\",\n",
    "    context=[property_listing_str]\n",
    ")"
   ]
  },
  {
   "cell_type": "markdown",
   "id": "3930f1dd-53ec-4361-8373-80c35e5c613c",
   "metadata": {},
   "source": [
    "# Eval Metrics"
   ]
  },
  {
   "cell_type": "code",
   "execution_count": 8,
   "id": "4c0ee6ad-fe63-4135-91f1-435949919d88",
   "metadata": {},
   "outputs": [],
   "source": [
    "fact_metric = FaithfulnessMetric(\n",
    "    threshold=0.7,\n",
    "    model=model_to_use,\n",
    "    include_reason=True\n",
    ")"
   ]
  },
  {
   "cell_type": "code",
   "execution_count": 9,
   "id": "03e4f7c6-7f78-44c5-a42d-915534f68f2d",
   "metadata": {},
   "outputs": [],
   "source": [
    "hallu_metric = HallucinationMetric(\n",
    "    threshold=0.7,\n",
    "    model=model_to_use,\n",
    "    include_reason=True\n",
    ")"
   ]
  },
  {
   "cell_type": "markdown",
   "id": "0321f075-d421-4f1f-adab-2b1131adcc1e",
   "metadata": {},
   "source": [
    "# Factual Evalulation"
   ]
  },
  {
   "cell_type": "code",
   "execution_count": 10,
   "id": "54cba655-d2e3-41fc-9256-350eafbf2372",
   "metadata": {},
   "outputs": [
    {
     "data": {
      "text/html": [
       "<pre style=\"white-space:pre;overflow-x:auto;line-height:normal;font-family:Menlo,'DejaVu Sans Mono',consolas,'Courier New',monospace\">✨ You're running DeepEval's latest <span style=\"color: #6a00ff; text-decoration-color: #6a00ff\">Faithfulness Metric</span>! <span style=\"color: #374151; text-decoration-color: #374151; font-weight: bold\">(</span><span style=\"color: #374151; text-decoration-color: #374151\">using o4-mini, </span><span style=\"color: #374151; text-decoration-color: #374151\">strict</span><span style=\"color: #374151; text-decoration-color: #374151\">=</span><span style=\"color: #374151; text-decoration-color: #374151; font-style: italic\">False</span><span style=\"color: #374151; text-decoration-color: #374151\">, </span><span style=\"color: #374151; text-decoration-color: #374151\">async_mode</span><span style=\"color: #374151; text-decoration-color: #374151\">=</span><span style=\"color: #374151; text-decoration-color: #374151; font-style: italic\">True</span><span style=\"color: #374151; text-decoration-color: #374151; font-weight: bold\">)</span><span style=\"color: #374151; text-decoration-color: #374151\">...</span>\n",
       "</pre>\n"
      ],
      "text/plain": [
       "✨ You're running DeepEval's latest \u001b[38;2;106;0;255mFaithfulness Metric\u001b[0m! \u001b[1;38;2;55;65;81m(\u001b[0m\u001b[38;2;55;65;81musing o4-mini, \u001b[0m\u001b[38;2;55;65;81mstrict\u001b[0m\u001b[38;2;55;65;81m=\u001b[0m\u001b[3;38;2;55;65;81mFalse\u001b[0m\u001b[38;2;55;65;81m, \u001b[0m\u001b[38;2;55;65;81masync_mode\u001b[0m\u001b[38;2;55;65;81m=\u001b[0m\u001b[3;38;2;55;65;81mTrue\u001b[0m\u001b[1;38;2;55;65;81m)\u001b[0m\u001b[38;2;55;65;81m...\u001b[0m\n"
      ]
     },
     "metadata": {},
     "output_type": "display_data"
    },
    {
     "name": "stderr",
     "output_type": "stream",
     "text": [
      "Evaluating 1 test case(s) in parallel: |██████████████████████████████████████████████████████████████████████████████████████████████████|100% (1/1) [Time Taken: 00:11, 11.63s/test case]"
     ]
    },
    {
     "name": "stdout",
     "output_type": "stream",
     "text": [
      "\n",
      "======================================================================\n",
      "\n",
      "Metrics Summary\n",
      "\n",
      "  - ❌ Faithfulness (score: 0.5, threshold: 0.7, strict: False, evaluation model: o4-mini, reason: The score is 0.50 because the actual output misstates the contact phone number as 000-000-0000 rather than the correct 555-123-4567 from the retrieval context., error: None)\n",
      "\n",
      "For test case:\n",
      "\n",
      "  - input: P. S. My roommate will give you very positive references for the indoor-only felines.\n",
      "  - actual output: A member of our team will be reaching out shortly to confirm this date and time. If you need immediate assistance or would like to confirm the requested tour, you can contact us directly at 000-000-0000.\n",
      "  - expected output: None\n",
      "  - context: None\n",
      "  - retrieval context: ['{\"security_deposit\": 2000, \"monthly_rent\": 2500, \"pet_policy\": [\"Small dogs allowed (under 25 lbs.)\"], \"smoking_policy\": \"Non-smoking property\", \"amenities\": [\"Swimming pool\", \"Fitness center\", \"In-unit laundry\", \"Central air conditioning\", \"Balcony/Patio\", \"Smart home features\", \"Assigned parking\"], \"lease_term\": \"12 months\", \"property_type\": \"Apartment\", \"bedrooms\": 2, \"bathrooms\": 2, \"square_feet\": 1200, \"furnished\": false, \"utilities_included\": [\"Water\", \"Trash removal\"], \"laundry\": \"In-unit washer/dryer\", \"parking\": \"One assigned space\", \"neighborhood\": \"Downtown\", \"year_built\": 2020, \"accessibility\": [\"Elevator\", \"Wheelchair ramp\"], \"appliances\": [\"Stainless steel refrigerator\", \"Gas range\", \"Dishwasher\", \"Microwave\"], \"flooring\": \"Hardwood\", \"availability_date\": \"2024-03-01\", \"application_fee\": 75, \"property_services\": [\"24/7 maintenance\", \"Package reception\", \"On-site management\"], \"outdoor_spaces\": [\"Community garden\", \"Rooftop terrace\"], \"security_features\": [\"Keyless entry\", \"Security cameras\", \"Intercom system\"], \"transportation\": [\"0.5 miles to subway station\", \"Bike share station on-site\"], \"name\": \"CityView Luxury Apartments\", \"phone\": \"555-123-4567\", \"management_company\": \"Urban Living Properties\", \"website\": \"https://cityviewluxury.com\", \"address\": \"123 Main St, Metropolis, NY 10001\"}']\n",
      "\n",
      "======================================================================\n",
      "\n",
      "Overall Metric Pass Rates\n",
      "\n",
      "Faithfulness: 0.00% pass rate\n",
      "\n",
      "======================================================================\n",
      "\n"
     ]
    },
    {
     "name": "stderr",
     "output_type": "stream",
     "text": [
      "\n"
     ]
    },
    {
     "data": {
      "text/html": [
       "<pre style=\"white-space:pre;overflow-x:auto;line-height:normal;font-family:Menlo,'DejaVu Sans Mono',consolas,'Courier New',monospace\">\n",
       "<span style=\"color: #05f58d; text-decoration-color: #05f58d\">✓</span> Tests finished 🎉! Run <span style=\"color: #008000; text-decoration-color: #008000; font-weight: bold\">'deepeval login'</span> to save and analyze evaluation results on Confident AI.\n",
       " \n",
       "✨👀 Looking for a place for your LLM test data to live 🏡❤️ ? Use <span style=\"color: #6a00ff; text-decoration-color: #6a00ff\">Confident AI</span> to get &amp; share testing reports, \n",
       "experiment with models/prompts, and catch regressions for your LLM system. Just run <span style=\"color: #008080; text-decoration-color: #008080\">'deepeval login'</span> in the CLI. \n",
       "\n",
       "</pre>\n"
      ],
      "text/plain": [
       "\n",
       "\u001b[38;2;5;245;141m✓\u001b[0m Tests finished 🎉! Run \u001b[1;32m'deepeval login'\u001b[0m to save and analyze evaluation results on Confident AI.\n",
       " \n",
       "✨👀 Looking for a place for your LLM test data to live 🏡❤️ ? Use \u001b[38;2;106;0;255mConfident AI\u001b[0m to get & share testing reports, \n",
       "experiment with models/prompts, and catch regressions for your LLM system. Just run \u001b[36m'deepeval login'\u001b[0m in the CLI. \n",
       "\n"
      ]
     },
     "metadata": {},
     "output_type": "display_data"
    },
    {
     "data": {
      "text/plain": [
       "EvaluationResult(test_results=[TestResult(name='test_case_0', success=False, metrics_data=[MetricData(name='Faithfulness', threshold=0.7, success=False, score=0.5, reason='The score is 0.50 because the actual output misstates the contact phone number as 000-000-0000 rather than the correct 555-123-4567 from the retrieval context.', strict_mode=False, evaluation_model='o4-mini', error=None, evaluation_cost=0.0106359, verbose_logs='Truths (limit=None):\\n[\\n    \"The security deposit is 2000.\",\\n    \"The monthly rent is 2500.\",\\n    \"Small dogs under 25 lbs. are allowed under the pet policy.\",\\n    \"The smoking policy designates this as a non-smoking property.\",\\n    \"The amenities include a swimming pool.\",\\n    \"The amenities include a fitness center.\",\\n    \"The amenities include in-unit laundry.\",\\n    \"The amenities include central air conditioning.\",\\n    \"The amenities include a balcony or patio.\",\\n    \"The amenities include smart home features.\",\\n    \"The amenities include assigned parking.\",\\n    \"The lease term is 12 months.\",\\n    \"The property type is an apartment.\",\\n    \"The unit has 2 bedrooms.\",\\n    \"The unit has 2 bathrooms.\",\\n    \"The unit measures 1200 square feet.\",\\n    \"The unit is not furnished.\",\\n    \"Utilities included are water and trash removal.\",\\n    \"Laundry is provided in-unit with a washer and dryer.\",\\n    \"Parking is one assigned space.\",\\n    \"The neighborhood is Downtown.\",\\n    \"The building was built in 2020.\",\\n    \"Accessibility features include an elevator and a wheelchair ramp.\",\\n    \"The appliances include a stainless steel refrigerator, a gas range, a dishwasher, and a microwave.\",\\n    \"The flooring is hardwood.\",\\n    \"The availability date is 2024-03-01.\",\\n    \"The application fee is 75.\",\\n    \"Property services include 24/7 maintenance, package reception, and on-site management.\",\\n    \"Outdoor spaces include a community garden and a rooftop terrace.\",\\n    \"Security features include keyless entry, security cameras, and an intercom system.\",\\n    \"Transportation options include being 0.5 miles to a subway station and having a bike share station on-site.\",\\n    \"The property name is CityView Luxury Apartments.\",\\n    \"The contact phone number is 555-123-4567.\",\\n    \"The management company is Urban Living Properties.\",\\n    \"The website is https://cityviewluxury.com.\",\\n    \"The address is 123 Main St, Metropolis, NY 10001.\"\\n] \\n \\nClaims:\\n[\\n    \"A member of our team will be reaching out shortly to confirm this date and time.\",\\n    \"If you need immediate assistance or would like to confirm the requested tour, you can contact us directly at 000-000-0000.\"\\n] \\n \\nVerdicts:\\n[\\n    {\\n        \"verdict\": \"idk\",\\n        \"reason\": null\\n    },\\n    {\\n        \"verdict\": \"no\",\\n        \"reason\": \"The claim provides the phone number as 000-000-0000, which contradicts the retrieval context stating the contact phone number is 555-123-4567.\"\\n    }\\n]')], conversational=False, multimodal=False, input='P. S. My roommate will give you very positive references for the indoor-only felines.', actual_output='A member of our team will be reaching out shortly to confirm this date and time. If you need immediate assistance or would like to confirm the requested tour, you can contact us directly at 000-000-0000.', expected_output=None, context=None, retrieval_context=['{\"security_deposit\": 2000, \"monthly_rent\": 2500, \"pet_policy\": [\"Small dogs allowed (under 25 lbs.)\"], \"smoking_policy\": \"Non-smoking property\", \"amenities\": [\"Swimming pool\", \"Fitness center\", \"In-unit laundry\", \"Central air conditioning\", \"Balcony/Patio\", \"Smart home features\", \"Assigned parking\"], \"lease_term\": \"12 months\", \"property_type\": \"Apartment\", \"bedrooms\": 2, \"bathrooms\": 2, \"square_feet\": 1200, \"furnished\": false, \"utilities_included\": [\"Water\", \"Trash removal\"], \"laundry\": \"In-unit washer/dryer\", \"parking\": \"One assigned space\", \"neighborhood\": \"Downtown\", \"year_built\": 2020, \"accessibility\": [\"Elevator\", \"Wheelchair ramp\"], \"appliances\": [\"Stainless steel refrigerator\", \"Gas range\", \"Dishwasher\", \"Microwave\"], \"flooring\": \"Hardwood\", \"availability_date\": \"2024-03-01\", \"application_fee\": 75, \"property_services\": [\"24/7 maintenance\", \"Package reception\", \"On-site management\"], \"outdoor_spaces\": [\"Community garden\", \"Rooftop terrace\"], \"security_features\": [\"Keyless entry\", \"Security cameras\", \"Intercom system\"], \"transportation\": [\"0.5 miles to subway station\", \"Bike share station on-site\"], \"name\": \"CityView Luxury Apartments\", \"phone\": \"555-123-4567\", \"management_company\": \"Urban Living Properties\", \"website\": \"https://cityviewluxury.com\", \"address\": \"123 Main St, Metropolis, NY 10001\"}'], additional_metadata=None)], confident_link=None)"
      ]
     },
     "execution_count": 10,
     "metadata": {},
     "output_type": "execute_result"
    }
   ],
   "source": [
    "evaluate(test_cases=[factual_test_case], metrics=[fact_metric])"
   ]
  },
  {
   "cell_type": "markdown",
   "id": "e9cacd35-8596-4182-971f-e82688cbca5f",
   "metadata": {},
   "source": [
    "# Hallucination Evaluation"
   ]
  },
  {
   "cell_type": "code",
   "execution_count": 11,
   "id": "cf978566-74f7-470b-8735-6b23e7871222",
   "metadata": {},
   "outputs": [
    {
     "data": {
      "text/html": [
       "<pre style=\"white-space:pre;overflow-x:auto;line-height:normal;font-family:Menlo,'DejaVu Sans Mono',consolas,'Courier New',monospace\">✨ You're running DeepEval's latest <span style=\"color: #6a00ff; text-decoration-color: #6a00ff\">Hallucination Metric</span>! <span style=\"color: #374151; text-decoration-color: #374151; font-weight: bold\">(</span><span style=\"color: #374151; text-decoration-color: #374151\">using o4-mini, </span><span style=\"color: #374151; text-decoration-color: #374151\">strict</span><span style=\"color: #374151; text-decoration-color: #374151\">=</span><span style=\"color: #374151; text-decoration-color: #374151; font-style: italic\">False</span><span style=\"color: #374151; text-decoration-color: #374151\">, </span><span style=\"color: #374151; text-decoration-color: #374151\">async_mode</span><span style=\"color: #374151; text-decoration-color: #374151\">=</span><span style=\"color: #374151; text-decoration-color: #374151; font-style: italic\">True</span><span style=\"color: #374151; text-decoration-color: #374151; font-weight: bold\">)</span><span style=\"color: #374151; text-decoration-color: #374151\">...</span>\n",
       "</pre>\n"
      ],
      "text/plain": [
       "✨ You're running DeepEval's latest \u001b[38;2;106;0;255mHallucination Metric\u001b[0m! \u001b[1;38;2;55;65;81m(\u001b[0m\u001b[38;2;55;65;81musing o4-mini, \u001b[0m\u001b[38;2;55;65;81mstrict\u001b[0m\u001b[38;2;55;65;81m=\u001b[0m\u001b[3;38;2;55;65;81mFalse\u001b[0m\u001b[38;2;55;65;81m, \u001b[0m\u001b[38;2;55;65;81masync_mode\u001b[0m\u001b[38;2;55;65;81m=\u001b[0m\u001b[3;38;2;55;65;81mTrue\u001b[0m\u001b[1;38;2;55;65;81m)\u001b[0m\u001b[38;2;55;65;81m...\u001b[0m\n"
      ]
     },
     "metadata": {},
     "output_type": "display_data"
    },
    {
     "name": "stderr",
     "output_type": "stream",
     "text": [
      "Evaluating 1 test case(s) in parallel: |██████████████████████████████████████████████████████████████████████████████████████████████████|100% (1/1) [Time Taken: 00:05,  5.60s/test case]"
     ]
    },
    {
     "name": "stdout",
     "output_type": "stream",
     "text": [
      "\n",
      "======================================================================\n",
      "\n",
      "Metrics Summary\n",
      "\n",
      "  - ❌ Hallucination (score: 1.0, threshold: 0.7, strict: False, evaluation model: o4-mini, reason: The score is 1.00 because the output incorrectly states that cats are allowed while the context only permits small dogs under 25 lbs., error: None)\n",
      "\n",
      "For test case:\n",
      "\n",
      "  - input: I've been staying with a best friend in CityView. Looking for a place of my own for me and the 2 indoor cats. I am retired and want to have my own furnishings, TV choices, etc.\n",
      "  - actual output: Hi there! Thanks for getting in touch with CityView Luxury Apartments. We're happy to let you know that we allow cats. We provide a variety of services and amenities and are eager to assist you in any way we can. When would be a good time for you to visit our property for a tour and chat about any questions you may have?\n",
      "  - expected output: None\n",
      "  - context: ['{\"security_deposit\": 2000, \"monthly_rent\": 2500, \"pet_policy\": [\"Small dogs allowed (under 25 lbs.)\"], \"smoking_policy\": \"Non-smoking property\", \"amenities\": [\"Swimming pool\", \"Fitness center\", \"In-unit laundry\", \"Central air conditioning\", \"Balcony/Patio\", \"Smart home features\", \"Assigned parking\"], \"lease_term\": \"12 months\", \"property_type\": \"Apartment\", \"bedrooms\": 2, \"bathrooms\": 2, \"square_feet\": 1200, \"furnished\": false, \"utilities_included\": [\"Water\", \"Trash removal\"], \"laundry\": \"In-unit washer/dryer\", \"parking\": \"One assigned space\", \"neighborhood\": \"Downtown\", \"year_built\": 2020, \"accessibility\": [\"Elevator\", \"Wheelchair ramp\"], \"appliances\": [\"Stainless steel refrigerator\", \"Gas range\", \"Dishwasher\", \"Microwave\"], \"flooring\": \"Hardwood\", \"availability_date\": \"2024-03-01\", \"application_fee\": 75, \"property_services\": [\"24/7 maintenance\", \"Package reception\", \"On-site management\"], \"outdoor_spaces\": [\"Community garden\", \"Rooftop terrace\"], \"security_features\": [\"Keyless entry\", \"Security cameras\", \"Intercom system\"], \"transportation\": [\"0.5 miles to subway station\", \"Bike share station on-site\"], \"name\": \"CityView Luxury Apartments\", \"phone\": \"555-123-4567\", \"management_company\": \"Urban Living Properties\", \"website\": \"https://cityviewluxury.com\", \"address\": \"123 Main St, Metropolis, NY 10001\"}']\n",
      "  - retrieval context: None\n",
      "\n",
      "======================================================================\n",
      "\n",
      "Overall Metric Pass Rates\n",
      "\n",
      "Hallucination: 0.00% pass rate\n",
      "\n",
      "======================================================================\n",
      "\n"
     ]
    },
    {
     "name": "stderr",
     "output_type": "stream",
     "text": [
      "\n"
     ]
    },
    {
     "data": {
      "text/html": [
       "<pre style=\"white-space:pre;overflow-x:auto;line-height:normal;font-family:Menlo,'DejaVu Sans Mono',consolas,'Courier New',monospace\">\n",
       "<span style=\"color: #05f58d; text-decoration-color: #05f58d\">✓</span> Tests finished 🎉! Run <span style=\"color: #008000; text-decoration-color: #008000; font-weight: bold\">'deepeval login'</span> to save and analyze evaluation results on Confident AI.\n",
       " \n",
       "✨👀 Looking for a place for your LLM test data to live 🏡❤️ ? Use <span style=\"color: #6a00ff; text-decoration-color: #6a00ff\">Confident AI</span> to get &amp; share testing reports, \n",
       "experiment with models/prompts, and catch regressions for your LLM system. Just run <span style=\"color: #008080; text-decoration-color: #008080\">'deepeval login'</span> in the CLI. \n",
       "\n",
       "</pre>\n"
      ],
      "text/plain": [
       "\n",
       "\u001b[38;2;5;245;141m✓\u001b[0m Tests finished 🎉! Run \u001b[1;32m'deepeval login'\u001b[0m to save and analyze evaluation results on Confident AI.\n",
       " \n",
       "✨👀 Looking for a place for your LLM test data to live 🏡❤️ ? Use \u001b[38;2;106;0;255mConfident AI\u001b[0m to get & share testing reports, \n",
       "experiment with models/prompts, and catch regressions for your LLM system. Just run \u001b[36m'deepeval login'\u001b[0m in the CLI. \n",
       "\n"
      ]
     },
     "metadata": {},
     "output_type": "display_data"
    },
    {
     "data": {
      "text/plain": [
       "EvaluationResult(test_results=[TestResult(name='test_case_0', success=False, metrics_data=[MetricData(name='Hallucination', threshold=0.7, success=False, score=1.0, reason='The score is 1.00 because the output incorrectly states that cats are allowed while the context only permits small dogs under 25 lbs.', strict_mode=False, evaluation_model='o4-mini', error=None, evaluation_cost=0.0033682, verbose_logs='Verdicts:\\n[\\n    {\\n        \"verdict\": \"no\",\\n        \"reason\": \"The context specifies a pet policy of only small dogs (under 25 lbs.) and does not mention cats. The actual output incorrectly states that cats are allowed.\"\\n    }\\n]')], conversational=False, multimodal=False, input=\"I've been staying with a best friend in CityView. Looking for a place of my own for me and the 2 indoor cats. I am retired and want to have my own furnishings, TV choices, etc.\", actual_output=\"Hi there! Thanks for getting in touch with CityView Luxury Apartments. We're happy to let you know that we allow cats. We provide a variety of services and amenities and are eager to assist you in any way we can. When would be a good time for you to visit our property for a tour and chat about any questions you may have?\", expected_output=None, context=['{\"security_deposit\": 2000, \"monthly_rent\": 2500, \"pet_policy\": [\"Small dogs allowed (under 25 lbs.)\"], \"smoking_policy\": \"Non-smoking property\", \"amenities\": [\"Swimming pool\", \"Fitness center\", \"In-unit laundry\", \"Central air conditioning\", \"Balcony/Patio\", \"Smart home features\", \"Assigned parking\"], \"lease_term\": \"12 months\", \"property_type\": \"Apartment\", \"bedrooms\": 2, \"bathrooms\": 2, \"square_feet\": 1200, \"furnished\": false, \"utilities_included\": [\"Water\", \"Trash removal\"], \"laundry\": \"In-unit washer/dryer\", \"parking\": \"One assigned space\", \"neighborhood\": \"Downtown\", \"year_built\": 2020, \"accessibility\": [\"Elevator\", \"Wheelchair ramp\"], \"appliances\": [\"Stainless steel refrigerator\", \"Gas range\", \"Dishwasher\", \"Microwave\"], \"flooring\": \"Hardwood\", \"availability_date\": \"2024-03-01\", \"application_fee\": 75, \"property_services\": [\"24/7 maintenance\", \"Package reception\", \"On-site management\"], \"outdoor_spaces\": [\"Community garden\", \"Rooftop terrace\"], \"security_features\": [\"Keyless entry\", \"Security cameras\", \"Intercom system\"], \"transportation\": [\"0.5 miles to subway station\", \"Bike share station on-site\"], \"name\": \"CityView Luxury Apartments\", \"phone\": \"555-123-4567\", \"management_company\": \"Urban Living Properties\", \"website\": \"https://cityviewluxury.com\", \"address\": \"123 Main St, Metropolis, NY 10001\"}'], retrieval_context=None, additional_metadata=None)], confident_link=None)"
      ]
     },
     "execution_count": 11,
     "metadata": {},
     "output_type": "execute_result"
    }
   ],
   "source": [
    "evaluate(test_cases=[hallu_test_case], metrics=[hallu_metric])"
   ]
  }
 ],
 "metadata": {
  "kernelspec": {
   "display_name": "Python 3 (ipykernel)",
   "language": "python",
   "name": "python3"
  },
  "language_info": {
   "codemirror_mode": {
    "name": "ipython",
    "version": 3
   },
   "file_extension": ".py",
   "mimetype": "text/x-python",
   "name": "python",
   "nbconvert_exporter": "python",
   "pygments_lexer": "ipython3",
   "version": "3.12.9"
  }
 },
 "nbformat": 4,
 "nbformat_minor": 5
}
