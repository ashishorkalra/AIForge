{
 "cells": [
  {
   "cell_type": "markdown",
   "id": "1a387f7a-ed15-45e9-acdf-977e5975f666",
   "metadata": {},
   "source": [
    "# Imports"
   ]
  },
  {
   "cell_type": "code",
   "execution_count": null,
   "id": "d06d5a5f-1925-45d5-a6ce-89e0dc23dc7f",
   "metadata": {},
   "outputs": [],
   "source": [
    "import dspy\n",
    "from deepeval.metrics import GEval\n",
    "from deepeval.test_case import LLMTestCase, LLMTestCaseParams\n",
    "import os"
   ]
  },
  {
   "cell_type": "markdown",
   "id": "926a9ebd-357f-4646-ad69-cce7785af429",
   "metadata": {},
   "source": [
    "# Configs"
   ]
  },
  {
   "cell_type": "code",
   "execution_count": 2,
   "id": "b2f02da4-6c59-4e70-93df-b6b16627a953",
   "metadata": {},
   "outputs": [],
   "source": [
    "os.environ[\"OPENAI_API_KEY\"] = \"\""
   ]
  },
  {
   "cell_type": "markdown",
   "id": "50c48850-f81b-4c54-b856-baaf6ed46d98",
   "metadata": {},
   "source": [
    "# DSPy Signatures"
   ]
  },
  {
   "cell_type": "code",
   "execution_count": 3,
   "id": "1bc2bb65-6e6b-4600-bc64-8362e5d796bd",
   "metadata": {},
   "outputs": [],
   "source": [
    "class SimpleQA(dspy.Signature):\n",
    "    \"\"\"Answer a simple question with a simple answer in markdown format.\"\"\"\n",
    "    question = dspy.InputField()\n",
    "    answer = dspy.OutputField(desc=\"formatted in markdown with ## headers and bullet points\")"
   ]
  },
  {
   "cell_type": "code",
   "execution_count": 4,
   "id": "cbd1524b-2b73-4bb5-b667-caa864d7e33e",
   "metadata": {},
   "outputs": [],
   "source": [
    "class RetryMarkdownAnswer(dspy.Signature):\n",
    "    \"\"\"Correct the answer to use proper markdown format with headers (##) and bullet points (-).\"\"\"\n",
    "    original_answer = dspy.InputField()\n",
    "    reason_for_failure = dspy.InputField()\n",
    "    corrected_answer = dspy.OutputField()\n"
   ]
  },
  {
   "cell_type": "markdown",
   "id": "d089953f-4f2a-4c7b-aa53-ac8643475a08",
   "metadata": {},
   "source": [
    "# Deep Eval Metric"
   ]
  },
  {
   "cell_type": "code",
   "execution_count": 5,
   "id": "bca0de4d-bfbf-4d6d-a76e-0639392baf0b",
   "metadata": {},
   "outputs": [],
   "source": [
    "explainability_metric = GEval(\n",
    "    name=\"ApplicationExplainability\",\n",
    "    criteria=\"Verify that the answer has explained the applications of the technology mentioned in 'input'\",\n",
    "    evaluation_params=[LLMTestCaseParams.INPUT, LLMTestCaseParams.ACTUAL_OUTPUT],\n",
    "    evaluation_steps=[\n",
    "        \"Check whether the inventor of the technology mentioned\"\n",
    "    ],\n",
    ")"
   ]
  },
  {
   "cell_type": "code",
   "execution_count": 6,
   "id": "891b4eb6-96c0-4dfb-9dff-e56cd0fb3bb5",
   "metadata": {},
   "outputs": [],
   "source": [
    "class RetryMarkdownQA(dspy.Module):\n",
    "    def __init__(self):\n",
    "        self.generate = dspy.Predict(SimpleQA)\n",
    "        self.retry = dspy.Predict(RetryMarkdownAnswer)\n",
    "        \n",
    "    def forward(self, question):\n",
    "        answer = self.generate(question=question).answer\n",
    "        retry_count = 0\n",
    "        \n",
    "        while retry_count < 3:\n",
    "            test_case = LLMTestCase(\n",
    "                input=question,\n",
    "                actual_output=answer\n",
    "            )\n",
    "            \n",
    "            explainability_metric.measure(test_case)\n",
    "            \n",
    "            if explainability_metric.score >= 0.5:\n",
    "                return answer\n",
    "\n",
    "            print(\"**** Retrying ....... ****\")\n",
    "            answer = self.retry(\n",
    "                original_answer=answer,\n",
    "                reason_for_failure=explainability_metric.reason\n",
    "            ).corrected_answer\n",
    "            \n",
    "            retry_count += 1\n",
    "            print(f\"Retry attempt {retry_count}. Reason: {explainability_metric.reason}\")\n",
    "            \n",
    "        return answer"
   ]
  },
  {
   "cell_type": "markdown",
   "id": "33664dfc-fe42-4500-8ded-da964eb9aaab",
   "metadata": {},
   "source": [
    "# Run Flow"
   ]
  },
  {
   "cell_type": "code",
   "execution_count": 7,
   "id": "e1ad7388-5a09-40bc-8d51-6f1dbdddd601",
   "metadata": {},
   "outputs": [
    {
     "data": {
      "application/vnd.jupyter.widget-view+json": {
       "model_id": "daf3ac73563749ccb847af657294ecf3",
       "version_major": 2,
       "version_minor": 0
      },
      "text/plain": [
       "Output()"
      ]
     },
     "metadata": {},
     "output_type": "display_data"
    },
    {
     "data": {
      "text/html": [
       "<pre style=\"white-space:pre;overflow-x:auto;line-height:normal;font-family:Menlo,'DejaVu Sans Mono',consolas,'Courier New',monospace\"></pre>\n"
      ],
      "text/plain": []
     },
     "metadata": {},
     "output_type": "display_data"
    },
    {
     "name": "stdout",
     "output_type": "stream",
     "text": [
      "**** Retrying ... ****\n"
     ]
    },
    {
     "data": {
      "application/vnd.jupyter.widget-view+json": {
       "model_id": "dde18fa2a82f4921bff93f10def840d7",
       "version_major": 2,
       "version_minor": 0
      },
      "text/plain": [
       "Output()"
      ]
     },
     "metadata": {},
     "output_type": "display_data"
    },
    {
     "name": "stdout",
     "output_type": "stream",
     "text": [
      "Retry attempt 1. Reason: The output does not mention the inventor of quantum computing or any specific individual associated with its invention.\n"
     ]
    },
    {
     "data": {
      "text/html": [
       "<pre style=\"white-space:pre;overflow-x:auto;line-height:normal;font-family:Menlo,'DejaVu Sans Mono',consolas,'Courier New',monospace\"></pre>\n"
      ],
      "text/plain": []
     },
     "metadata": {},
     "output_type": "display_data"
    },
    {
     "name": "stdout",
     "output_type": "stream",
     "text": [
      "\n",
      "Final Answer:\n",
      "## Quantum Computing Basics\n",
      "\n",
      "- **Definition**: Quantum computing is a type of computation that uses quantum bits (qubits) instead of classical bits to process information.\n",
      "  \n",
      "- **Qubits**: \n",
      "  - Unlike classical bits, which can be either 0 or 1, qubits can exist in multiple states simultaneously due to superposition.\n",
      "  \n",
      "- **Superposition**: \n",
      "  - This property allows qubits to perform many calculations at once, potentially leading to faster problem-solving capabilities.\n",
      "\n",
      "- **Entanglement**: \n",
      "  - Qubits can be entangled, meaning the state of one qubit is directly related to the state of another, no matter the distance between them. This can enhance computational power.\n",
      "\n",
      "- **Quantum Gates**: \n",
      "  - Quantum operations are performed using quantum gates, which manipulate qubits through various transformations.\n",
      "\n",
      "- **Applications**: \n",
      "  - Quantum computing has potential applications in cryptography, optimization problems, drug discovery, and complex simulations.\n",
      "\n",
      "- **Pioneers**: \n",
      "  - Notable figures in the development of quantum computing include Richard Feynman, who proposed the idea in the 1980s, and David Deutsch, who developed the first quantum algorithm.\n"
     ]
    }
   ],
   "source": [
    "qa_system = RetryMarkdownQA()\n",
    "question = \"Explain quantum computing basics\"\n",
    "\n",
    "lm = dspy.LM('openai/gpt-4o-mini')\n",
    "dspy.configure(lm=lm)\n",
    "\n",
    "response = qa_system(question)\n",
    "print(f\"\\nFinal Answer:\\n{response}\")"
   ]
  }
 ],
 "metadata": {
  "kernelspec": {
   "display_name": "Python 3 (ipykernel)",
   "language": "python",
   "name": "python3"
  },
  "language_info": {
   "codemirror_mode": {
    "name": "ipython",
    "version": 3
   },
   "file_extension": ".py",
   "mimetype": "text/x-python",
   "name": "python",
   "nbconvert_exporter": "python",
   "pygments_lexer": "ipython3",
   "version": "3.12.9"
  }
 },
 "nbformat": 4,
 "nbformat_minor": 5
}
